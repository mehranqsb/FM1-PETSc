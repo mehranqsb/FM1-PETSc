{
 "cells": [
  {
   "cell_type": "markdown",
   "metadata": {},
   "source": [
    "|<div style=\"width:330px\"><img src=\"https://www.ufz.de/static/custom/weblayout/DefaultInternetLayout/img/logos/ufz_transparent_de_blue.png\" width=\"300\"/></div>|<div style=\"width:290px\"><img src=\"https://discourse.opengeosys.org/uploads/default/original/1X/a288c27cc8f73e6830ad98b8729637a260ce3490.png\" width=\"290\"/></div>|<div style=\"width:330px\"><img src=\"https://github.com/nagelt/Teaching_Scripts/raw/9d9e29ecca4b04eaf7397938eacbf116d37ddc93/Images/TUBAF_Logo_blau.png\" width=\"300\"/></div>|\n",
    "|---|---|--:|\n",
    "\n",
    "*Mehran Ghasabeh  \n",
    "Chair of Soil Mechanics and Foundation Engineering  \n",
    "Institute of Geotechnics  \n",
    "Technische Universität Bergakademie Freiberg.*\n",
    "\n",
    "https://tu-freiberg.de/en/soilmechanics"
   ]
  },
  {
   "cell_type": "markdown",
   "metadata": {},
   "source": [
    "## Problem Description\n",
    "In this example, I ran <code>FM1.prj</code> using the material parameters listed in Table 1, with two different solvers: PardisoLU and PETSc. I used PardisoLU with 12 cores and PETSc with a single core. The analyses completed successfully without any issues. However, when I enabled parallelization with PETSc, the analysis halted at a specific time step and did not proceed further."
   ]
  },
  {
   "cell_type": "markdown",
   "metadata": {},
   "source": [
    "<table border=\"1\">\n",
    "  <caption>Table 1: Constitutive parameters for modelling the induced slip of a fault</caption>\n",
    "  <thead>\n",
    "    <tr>\n",
    "      <th>Material</th>\n",
    "      <th>Parameter</th>\n",
    "      <th>Value (FM1)</th>\n",
    "      <th>Value (FM2)</th>\n",
    "      <th>Unit</th>\n",
    "    </tr>\n",
    "  </thead>\n",
    "  <tbody>\n",
    "    <tr>\n",
    "      <td rowspan=\"4\">Elastic parameters</td>\n",
    "      <td>Bulk modulus, <i>K</i></td>\n",
    "      <td>5.9</td>\n",
    "      <td>5.9</td>\n",
    "      <td>GPa</td>\n",
    "    </tr>\n",
    "    <tr>\n",
    "      <td>Shear modulus, <i>G</i></td>\n",
    "      <td>2.3</td>\n",
    "      <td>2.3</td>\n",
    "      <td>GPa</td>\n",
    "    </tr>\n",
    "    <tr>\n",
    "      <td>Bulk density, <i>&rho;</i><sub>R</sub></td>\n",
    "      <td>2450</td>\n",
    "      <td>2450</td>\n",
    "      <td>kg/m<sup>3</sup></td>\n",
    "    </tr>\n",
    "    <tr>\n",
    "      <td>Permeability, <i>k</i></td>\n",
    "      <td>0</td>\n",
    "      <td>0</td>\n",
    "      <td>m<sup>2</sup></td>\n",
    "    </tr>\n",
    "    <tr>\n",
    "      <td rowspan=\"7\">Elastoplastic parameters</td>\n",
    "      <td>Normal Stiffness, <i>k</i><sub>n</sub></td>\n",
    "      <td>20</td>\n",
    "      <td>20</td>\n",
    "      <td>GPa/m</td>\n",
    "    </tr>\n",
    "    <tr>\n",
    "      <td>Shear stiffness, <i>k</i><sub>s</sub></td>\n",
    "      <td>20</td>\n",
    "      <td>20</td>\n",
    "      <td>GPa/m</td>\n",
    "    </tr>\n",
    "    <tr>\n",
    "      <td>Weak plane cohesion, <i>c</i><sub>wp</sub></td>\n",
    "      <td>0</td>\n",
    "      <td>0</td>\n",
    "      <td>MPa</td>\n",
    "    </tr>\n",
    "    <tr>\n",
    "      <td>Weak plane friction angle, <i>&phi;</i><sub>wp</sub></td>\n",
    "      <td>22</td>\n",
    "      <td>22</td>\n",
    "      <td>&deg;</td>\n",
    "    </tr>\n",
    "    <tr>\n",
    "      <td>Weak plane dilatancy angle, <i>&psi;</i><sub>wp</sub></td>\n",
    "      <td>0</td>\n",
    "      <td>10</td>\n",
    "      <td>&deg;</td>\n",
    "    </tr>\n",
    "    <tr>\n",
    "      <td>Initial creation aperture, <i>b</i><sub>i</sub></td>\n",
    "      <td>28</td>\n",
    "      <td>0</td>\n",
    "      <td>&mu;m</td>\n",
    "    </tr>\n",
    "    <tr>\n",
    "      <td>Initial aperture, <i>b</i><sub>0</sub></td>\n",
    "      <td>0</td>\n",
    "      <td>10</td>\n",
    "      <td>&mu;m</td>\n",
    "    </tr>\n",
    "    <tr>\n",
    "      <td rowspan=\"3\">Hydraulic parameters</td>\n",
    "      <td>Permeability of intact rock, <i>k</i><sub>M</sub></td>\n",
    "      <td>10<sup>&minus;22</sup></td>\n",
    "      <td>10<sup>&minus;22</sup></td>\n",
    "      <td>m<sup>2</sup></td>\n",
    "    </tr>\n",
    "    <tr>\n",
    "      <td>Initial aperture, <i>b</i><sub>0</sub></td>\n",
    "      <td>10</td>\n",
    "      <td>10</td>\n",
    "      <td>&mu;m</td>\n",
    "    </tr>\n",
    "    <tr>\n",
    "      <td>Biot'</i>s coefficieni<i>>&alpha;</i></td>\n",
    "      <td>0.95</td>\n",
    "      <td>0.95</td>\n",
    "      <td>-</td>\n",
    "    </tr>\n",
    "    <tr>\n",
    "      <td rowspan=\"2\">Fluid</td>\n",
    "      <td>Density, <i>&rho;</i><sub>f</sub></td>\n",
    "      <td>1000</td>\n",
    "      <td>1000</td>\n",
    "      <td>kg/m<sup>3</sup></td>\n",
    "    </tr>\n",
    "    <tr>\n",
    "      <td></i>Viscosity, <u;</i></td>\n",
    "      <td>1000</td>\n",
    "      <td>1000</td>\n",
    "      <td>Pa&middot;s</td>\n",
    "    </tr>\n",
    "  </tbody>\n",
    "</ta</i>"
   ]
  },
  {
   "cell_type": "code",
   "execution_count": null,
   "metadata": {},
   "outputs": [],
   "source": [
    "import math\n",
    "import os\n",
    "from pathlib import Path\n",
    "\n",
    "import matplotlib.pyplot as plt\n",
    "import numpy as np\n",
    "import pandas as pd\n",
    "import pyvista as pv\n",
    "import vtuIO\n",
    "\n",
    "## To run the simulations through the jupyternotebook, the following lib is imported\n",
    "from ogs6py.ogs import OGS"
   ]
  },
  {
   "cell_type": "code",
   "execution_count": null,
   "metadata": {},
   "outputs": [],
   "source": [
    "# Some plot settings\n",
    "plt.rcParams[\"lines.linewidth\"] = 3.0\n",
    "plt.rcParams[\"lines.color\"] = \"black\"\n",
    "plt.rcParams[\"legend.frameon\"] = True\n",
    "plt.rcParams[\"font.family\"] = \"serif\"\n",
    "plt.rcParams[\"legend.fontsize\"] = 16\n",
    "plt.rcParams[\"font.size\"] = 16\n",
    "plt.rcParams[\"axes.spines.right\"] = True\n",
    "plt.rcParams[\"axes.spines.top\"] = True\n",
    "plt.rcParams[\"axes.spines.left\"] = True\n",
    "plt.rcParams[\"axes.spines.bottom\"] = True\n",
    "plt.rcParams[\"axes.axisbelow\"] = True"
   ]
  },
  {
   "cell_type": "markdown",
   "metadata": {},
   "source": [
    "# FM1 Model"
   ]
  },
  {
   "cell_type": "markdown",
   "metadata": {},
   "source": [
    "## Injection pressure"
   ]
  },
  {
   "cell_type": "code",
   "execution_count": null,
   "metadata": {},
   "outputs": [],
   "source": [
    "dt = np.array(\n",
    "    [0, 1, 1, 22.3, 1, 76, 1, 56, 1, 55, 1, 53, 1, 49, 1, 102, 1, 32, 1, 47, 100, 200]\n",
    ")  # seconds\n",
    "p = np.array(\n",
    "    [\n",
    "        0.5,\n",
    "        0.5,\n",
    "        0.7446,\n",
    "        0.7446,\n",
    "        1.919,\n",
    "        1.919,\n",
    "        3.627,\n",
    "        3.627,\n",
    "        4.094,\n",
    "        4.094,\n",
    "        4.511,\n",
    "        4.5411,\n",
    "        4.99,\n",
    "        4.99,\n",
    "        5.484,\n",
    "        5.484,\n",
    "        6.302,\n",
    "        6.302,\n",
    "        3.382,\n",
    "        3.382,\n",
    "        3.382,\n",
    "        3.382,\n",
    "    ]\n",
    ")  # MPa"
   ]
  },
  {
   "cell_type": "code",
   "execution_count": null,
   "metadata": {},
   "outputs": [],
   "source": [
    "fig, ax = plt.subplots(figsize=(10, 6))\n",
    "ax.plot(\n",
    "    dt.cumsum()[1:] - dt[1],\n",
    "    p[1:],\n",
    "    label=\"Injected pressure pressure in MPa\",\n",
    "    color=\"red\",\n",
    ")\n",
    "ax.set_xlabel(\"$t-t_\\\\mathrm{ic}$ / s\")\n",
    "ax.set_ylabel(\"Well-Pressure / MPa\")\n",
    "ax.legend()\n",
    "ax.grid(True)\n",
    "fig.tight_layout()"
   ]
  },
  {
   "cell_type": "markdown",
   "metadata": {},
   "source": [
    "## Run analysis using ParsidoLU solver on 12 cores"
   ]
  },
  {
   "cell_type": "code",
   "execution_count": null,
   "metadata": {},
   "outputs": [],
   "source": [
    "PATH_OGS_PRADISOLU_1 = \"~/build/release/bin\"\n",
    "mpirun_pardisolu_1 = \"OMP_NUM_THREADS=12 OGS_ASM_THREADS=12\""
   ]
  },
  {
   "cell_type": "code",
   "execution_count": null,
   "metadata": {},
   "outputs": [],
   "source": [
    "import os\n",
    "from pathlib import Path\n",
    "\n",
    "model_1 = OGS(INPUT_FILE=\"FM1_WP.prj\", PROJECT_FILE=\"FM1_WP.prj\", ogs_mode=\"silent\")\n",
    "model_1.write_input()\n",
    "\n",
    "# Define output directory, including viscosity in the name\n",
    "out_dir_1 = Path(os.environ.get(\"OGS_TESTRUNNER_OUT_DIR\", \"_out_PardisoLU_12_cores\"))\n",
    "if not out_dir_1.exists():\n",
    "    out_dir_1.mkdir(parents=True)\n",
    "\n",
    "# Run simulation\n",
    "print(f\"Running simulation with PardisoLU on 12 cores\")\n",
    "model_1.run_model(\n",
    "    path=PATH_OGS_PRADISOLU_1,\n",
    "    logfile=str(out_dir_1 / \"out_PardisoLU_12_cores.txt\"),\n",
    "    wrapper=mpirun_pardisolu_1,\n",
    "    args=f\"-o {out_dir_1}\",\n",
    ")"
   ]
  },
  {
   "cell_type": "markdown",
   "metadata": {},
   "source": [
    "## Run analysis using PETSc solver on single core"
   ]
  },
  {
   "cell_type": "code",
   "execution_count": null,
   "metadata": {},
   "outputs": [],
   "source": [
    "PATH_OGS_PETSc_1 = \"~/build/release-petsc/bin\"\n",
    "mpirun_petsc_1 = \"\""
   ]
  },
  {
   "cell_type": "code",
   "execution_count": null,
   "metadata": {},
   "outputs": [],
   "source": [
    "model_2 = OGS(INPUT_FILE=\"FM1_WP.prj\", PROJECT_FILE=\"FM1_WP.prj\", ogs_mode=\"silent\")\n",
    "model_2.write_input()\n",
    "\n",
    "# Define output directory, including viscosity in the name\n",
    "out_dir_2 = Path(os.environ.get(\"OGS_TESTRUNNER_OUT_DIR\", \"_out_PETSc_signle_core\"))\n",
    "if not out_dir_2.exists():\n",
    "    out_dir_2.mkdir(parents=True)\n",
    "\n",
    "# Run simulation\n",
    "print(f\"Running simulation with PETSc on single core\")\n",
    "model_2.run_model(\n",
    "    path=PATH_OGS_PETSc_1,\n",
    "    logfile=str(out_dir_2 / \"out_PETSc_singl_core.txt\"),\n",
    "    wrapper=mpirun_petsc_1,\n",
    "    args=f\"-o {out_dir_2}\",\n",
    ")"
   ]
  },
  {
   "cell_type": "markdown",
   "metadata": {},
   "source": [
    "## Run analysis using PETSc solver with parallelization on 12 cores"
   ]
  },
  {
   "cell_type": "code",
   "execution_count": null,
   "metadata": {},
   "outputs": [],
   "source": [
    "PATH_OGS_PETSc_2 = \"~/build/release-petsc/bin\"\n",
    "mpirun_petsc_2 = \"mpiexec -n 12\""
   ]
  },
  {
   "cell_type": "code",
   "execution_count": null,
   "metadata": {},
   "outputs": [],
   "source": [
    "model_3 = OGS(INPUT_FILE=\"FM1_WP.prj\", PROJECT_FILE=\"FM1_WP.prj\", ogs_mode=\"silent\")\n",
    "model_3.write_input()\n",
    "\n",
    "# Define output directory, including viscosity in the name\n",
    "out_dir_3 = Path(os.environ.get(\"OGS_TESTRUNNER_OUT_DIR\", \"_out_PETSc_12_cores\"))\n",
    "if not out_dir_3.exists():\n",
    "    out_dir_3.mkdir(parents=True)\n",
    "\n",
    "# Run simulation\n",
    "print(f\"Running simulation with PETSc on 12 cores\")\n",
    "model_3.run_model(\n",
    "    path=PATH_OGS_PETSc_2,\n",
    "    logfile=str(out_dir_3 / \"out_PETSc_12_core.txt\"),\n",
    "    wrapper=mpirun_petsc_2,\n",
    "    args=f\"-o {out_dir_3}\",\n",
    ")"
   ]
  }
 ],
 "metadata": {
  "kernelspec": {
   "display_name": "Python 3",
   "language": "python",
   "name": "python3"
  },
  "language_info": {
   "codemirror_mode": {
    "name": "ipython",
    "version": 3
   },
   "file_extension": ".py",
   "mimetype": "text/x-python",
   "name": "python",
   "nbconvert_exporter": "python",
   "pygments_lexer": "ipython3",
   "version": "3.10.12"
  }
 },
 "nbformat": 4,
 "nbformat_minor": 4
}
